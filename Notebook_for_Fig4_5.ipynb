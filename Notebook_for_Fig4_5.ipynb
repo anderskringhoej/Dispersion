{
 "cells": [
  {
   "cell_type": "markdown",
   "metadata": {},
   "source": [
    "<h1>Table of Contents<span class=\"tocSkip\"></span></h1>"
   ]
  },
  {
   "cell_type": "code",
   "execution_count": 1,
   "metadata": {
    "code_folding": []
   },
   "outputs": [],
   "source": [
    "import numpy as np\n",
    "import matplotlib.pyplot as plt\n",
    "from scipy.optimize import brentq\n",
    "from scipy.sparse.linalg import eigsh\n",
    "from mpl_toolkits.axes_grid1.inset_locator import inset_axes\n",
    "\n",
    "# Pauli Matrices\n",
    "sx = np.array([[0, 1], [1, 0]])\n",
    "sz = np.array([[1, 0], [0, -1]])\n",
    "s0 = np.array([[1, 0], [0, 1]])\n",
    "sp = np.array([[0, 1], [0, 0]])\n",
    "sm = np.array([[0, 0], [1, 0]])"
   ]
  },
  {
   "cell_type": "markdown",
   "metadata": {},
   "source": [
    "# Functions"
   ]
  },
  {
   "cell_type": "code",
   "execution_count": 2,
   "metadata": {},
   "outputs": [],
   "source": [
    "# model Hamiltonian\n",
    "\n",
    "# N is the number of phase points included\n",
    "# Total size of the Hamiltonian is 2*N\n",
    "def hamiltonian(Ec, gap, T, ng, N): # two level model applied\n",
    "    # Charging energy Ec, induced gap, in our case the effective gap E(0), Transmission T, \n",
    "    # offset charge ng\n",
    "    a = 4 * np.pi / N # lattice spacing\n",
    "    t = 4 * Ec / a**2 # hopping\n",
    "\n",
    "    # charging energy\n",
    "    ham = 2 * t * np.eye(N) + 0j\n",
    "    ham += t * np.exp(1j * 0.5 * ng * a) * np.eye(N, k = 1)\n",
    "    ham += t * np.exp(-1j * 0.5 * ng * a) * np.eye(N, k = -1)\n",
    "    ham += t * np.exp(-1j * 0.5 * ng * a) * np.eye(N, k = N-1) # boundary condition\n",
    "    ham += t * np.exp(1j * 0.5 * ng * a) * np.eye(N, k = -N+1) # boundary condition\n",
    "    ham = np.kron(ham, s0)\n",
    "    \n",
    "    phis = np.linspace(0, 4*np.pi, N, endpoint=False)\n",
    "    ham += gap * np.kron(np.diag(np.cos(phis / 2)), sz)\n",
    "    ham += gap * np.sqrt(1 - T) * np.kron(np.diag(np.sin(phis / 2)), sx)\n",
    "    return ham"
   ]
  },
  {
   "cell_type": "markdown",
   "metadata": {},
   "source": [
    "The implementiation of the Hamiltonian is decribed in the supplementary material section 1C: <br>\n",
    "\"The Hamiltonian (2) of the main text is used to the determine the qubit energy levels given the input parameters $E_C,~n_g,~\\tilde{\\Delta}$ and $r=\\sqrt{1-T}$.\n",
    "The Hamiltonian is solved numerically by discretizing the coordinate $\\phi$ on a finite grid with grid spacing $\\delta$, chosen to be small enough to guarantee convergence of the eigenvalues.\n",
    "Following standard procedure, the derivative operator $\\partial_\\phi$ is implemented as a hopping operator between neighboring sites of the $\\phi$-grid, with hopping strength $4 E_C / \\delta^2$.\n",
    "The induced charge $n_g$ enters the Hamiltonian, via the Peierls substitution, as a hopping phase e$^{i\\delta n_g/2}$.\n",
    "We diagonalize the Hamiltonian on the interval $\\phi\\,\\in\\,[0, 4\\pi)$ with anti-periodic boundary conditions.\n",
    "This choice is required to guarantee the smoothness of the wave functions and the correct offset of energy levels with respect to $n_g$.\""
   ]
  },
  {
   "cell_type": "code",
   "execution_count": 20,
   "metadata": {
    "code_folding": []
   },
   "outputs": [],
   "source": [
    "# model functions\n",
    "def bound_state_equation(x, phi, gamma1, gamma2, gap, xr): # Eq. 1 in the paper\n",
    "    gamma = gamma1 + gamma2\n",
    "    omega = ((gap**2 - x**2) * (x**2 - xr**2 - gamma**2/4) + gap**2 * gamma1 * gamma2 * np.sin(phi/2)**2)\n",
    "    return omega + gamma * x**2 * np.sqrt(gap**2 - x**2)\n",
    "\n",
    "def T_BW(gamma1, gamma2, xr): # extract transmission based on \\epsilon_r and Gammas\n",
    "    T = gamma1*gamma2/(xr**2+1/4*(gamma1+gamma2)**2)\n",
    "    return T\n",
    "\n",
    "def Delta_tilde(gamma1, gamma2, gap, xr): # get E(0) = \\tilde(\\Delta), given Gammas, Al gap and epsilon_r\n",
    "    \"\"\"\n",
    "    Solves Eq. 1 at zero phase to find E(0) = \\tilde(\\Delta) for given Gammas, gap and epsilon_r\n",
    "    \"\"\"\n",
    "    sol = brentq(lambda x: bound_state_equation(x, 0, gamma1/gap, gamma2/gap, 1, xr/gap), 0, 1-1e-3, full_output=False)*gap\n",
    "    return sol\n",
    "\n",
    "eps_sample = np.array([0,0.1,0.3,0.5,1,1.5,2,3,4,5,6,7,8,9,10,12,14,16,18,20,25,30,35,40,45,50,55,60,65,70,80,90,100])\n",
    "# array of test epsilons\n",
    "\n",
    "def get_freq(Ec, Delta, T): # get degenaracy qubit frequency for given Ec, gap and transmission\n",
    "    ham = hamiltonian(Ec, Delta, T, ng=0.5, N=201)\n",
    "    evals = np.linalg.eigvalsh(ham)\n",
    "    return evals[3]-evals[0]\n",
    "\n",
    "def get_disp(Ec, Delta, T): # get dispersion amplitude for given Ec, gap and transmission\n",
    "    ham = hamiltonian(Ec, Delta, T, ng=0, N=201)\n",
    "    evals = np.linalg.eigvalsh(ham)\n",
    "    return (evals[3]-evals[0]-get_freq(Ec, Delta, T))\n",
    "\n",
    "def get_freqs_vs_disps(Ec, Gamma, xrs, gap = 45): # Model degenaracy frequency vs dispersion amplitude, Al gap of 45 GHz = 190 µeV \n",
    "    \"\"\"\n",
    "    Get corresponding qubit frequency and dispersion amplitude given Ec, Gamma and range of epsilon_r.\n",
    "    From Epsilon_r and Gamma the Breit-Wigner transmission and effective gap E(0)=tilde{Delta} are calculated.\n",
    "    By feeding these into get_freq and get_disp functions, corresponding frequencies and dispersion amplitudes\n",
    "    are calculated.\n",
    "    \"\"\"\n",
    "    disp = []\n",
    "    freq = []\n",
    "    for xr in xrs:\n",
    "        T = T_BW(Gamma, Gamma, xr) # get transmission for given epsilon_r and Gamma\n",
    "        Delta = Delta_tilde(Gamma, Gamma, gap, xr) # get effective gap E(0)\n",
    "        freq.append(get_freq(Ec, Delta, T))\n",
    "        disp.append(get_disp(Ec, Delta, T))\n",
    "    return np.array(freq), np.array(disp)\n",
    "\n",
    "def get_freq02(Ec, Delta, T): # get 0->2 degenaracy frequency for given Ec, gap and transmission\n",
    "    ham = hamiltonian(Ec, Delta, T, ng=0.5, N=201)\n",
    "    evals = np.linalg.eigvalsh(ham)\n",
    "    return evals[4]-evals[0]\n",
    "\n",
    "def get_disp02(Ec, Delta, T): # get 0->2 dispersion amplitude for given Ec, gap and transmission\n",
    "    ham = hamiltonian(Ec, Delta, T, ng=0, N=201)\n",
    "    evals = np.linalg.eigvalsh(ham)\n",
    "    f = get_freq02(Ec, Delta, T)    \n",
    "    return (f-(evals[4]-evals[0]))\n",
    "\n",
    "\n",
    "def get_freqs02_vs_disps02(Ec, Gamma, xrs, gap = 45): # Model 0->2 degenaracy frequency vs 0->2 dispersion amplitude, Al gap of 45 GHz = 190 µeV \n",
    "    \"\"\"\n",
    "    Get corresponding 0->2 frequency and 0->2 dispersion amplitude given Ec, Gamma and range of epsilon_r.\n",
    "    From Epsilon_r and Gamma the Breit-Wigner transmission and effective gap E(0)=tilde{Delta} are calculated.\n",
    "    By feeding these into get_freq and get_disp functions, corresponding frequencies and dispersion amplitudes\n",
    "    are calculated.\n",
    "    \"\"\"\n",
    "    disp = []\n",
    "    freq = []\n",
    "    for xr in xrs:\n",
    "        T = T_BW(Gamma, Gamma, xr)\n",
    "        Delta = Delta_tilde(Gamma, Gamma, gap, xr)\n",
    "        freq.append(get_freq02(Ec, Delta, T))\n",
    "        disp.append(get_disp02(Ec, Delta, T))\n",
    "    return np.array(freq), np.array(disp)\n"
   ]
  },
  {
   "cell_type": "code",
   "execution_count": 21,
   "metadata": {
    "code_folding": []
   },
   "outputs": [],
   "source": [
    "# Transmon functions\n",
    "from numpy.linalg import eig\n",
    "\n",
    "def energies(Ej, Ec, ng, N): # Solve transmon Hamiltonian basded on E_J, E_C, and charge offset n_g\n",
    "    n_op = np.diag(np.arange(-N, N + 1, 1, dtype=int)) - ng * np.eye(2*N+1)\n",
    "    ham = 4 * Ec * n_op@n_op\n",
    "    ham += 0.5 * Ej * np.eye(2*N+1, k=1)\n",
    "    ham += 0.5 * Ej * np.eye(2*N+1, k=-1)\n",
    "    evals = np.linalg.eigvalsh(ham)\n",
    "    evals -= evals.min()\n",
    "    return evals\n",
    "\n",
    "def find_dispersion(Ec, Ej): # transmon dispersion amplitude \n",
    "    N = 50\n",
    "    e = energies(Ej, Ec, 0, N)\n",
    "    disp = (e[1] - e[0]-find_freq(Ec, Ej)) \n",
    "    return disp\n",
    "\n",
    "def find_dispersion02(Ec, Ej): # transmon 0->2 dispersion amplitude \n",
    "    N = 50\n",
    "    e = energies(Ej, Ec, 0, N)\n",
    "    disp = (find_freq02(Ec, Ej) - (e[2] - e[0]))\n",
    "    return disp\n",
    "\n",
    "def find_freq(Ec, Ej): # transmon degenaracy frequency, note n_g axis in units of 2e as opposed to 1e above\n",
    "    N = 50\n",
    "    e = energies(Ej, Ec, 0.25, N)\n",
    "    freq = (e[1] - e[0])\n",
    "    return freq\n",
    "\n",
    "def find_freq02(Ec, Ej): # transmon 0->2 degenaracy frequency\n",
    "    N = 50\n",
    "    e = energies(Ej, Ec, 0.25, N)\n",
    "    freq02 = (e[2] - e[0])\n",
    "    return freq02"
   ]
  },
  {
   "cell_type": "markdown",
   "metadata": {},
   "source": [
    "# Load data"
   ]
  },
  {
   "cell_type": "code",
   "execution_count": 22,
   "metadata": {},
   "outputs": [],
   "source": [
    "# create transmon theory data\n",
    "params = np.loadtxt('fitparameters.txt', comments='#') # load fit parameters\n",
    "Ej = np.linspace(0,90,201)\n",
    "Ec1 = params[0]\n",
    "\n",
    "#transmon model\n",
    "f_transmon = np.zeros(len(Ej))\n",
    "d_transmon = np.zeros(len(Ej))\n",
    "for (i,es) in enumerate(Ej):\n",
    "    d_transmon[i] = find_dispersion(Ec1, es)*1000 # MHz\n",
    "    f_transmon[i] = find_freq(Ec1, es) # GHz\n",
    "    \n",
    "# 02 transmon model    \n",
    "f_transmon02 = np.zeros(len(Ej))\n",
    "d_transmon02 = np.zeros(len(Ej))\n",
    "alpha_koch = []\n",
    "for (i,es) in enumerate(Ej):\n",
    "    d_transmon02[i] = find_dispersion02(Ec1, es)*1000 # MHz\n",
    "    f_transmon02[i] = find_freq02(Ec1, es) # GHz"
   ]
  },
  {
   "cell_type": "markdown",
   "metadata": {},
   "source": [
    "## Load 01 data from Res. 1 and Res. 2"
   ]
  },
  {
   "cell_type": "code",
   "execution_count": 23,
   "metadata": {},
   "outputs": [],
   "source": [
    "f_model = [] # model data\n",
    "d_model = [] # model data\n",
    "cutter = [] # experimental data\n",
    "f_expt = [] # experimental data\n",
    "d_expt = [] # experimental data\n",
    "for i in range(2):\n",
    "    c, f1, d1 = np.loadtxt('Res'+str(i+1)+'_01.txt', comments='#', unpack=True ) # V_Q (V), f_{01} (GHz), \\delta_{01} (MHz)\n",
    "\n",
    "    res = [params[0], params[i+1:i+2]]\n",
    "    f, d = get_freqs_vs_disps(*res, eps_sample)\n",
    "    f_model.append(f) # GHz\n",
    "    d_model.append(d*1e3) # MHz\n",
    "    f_expt.append(f1) # list with qubit frequencies (GHz) for both resonances\n",
    "    d_expt.append(d1) # list with dispersion amplitudes (MHz) for both resonances\n",
    "    cutter.append(c) # list with corresponding V_Q (V) for both resonances"
   ]
  },
  {
   "cell_type": "markdown",
   "metadata": {},
   "source": [
    "## Load 02 data from Res. 2"
   ]
  },
  {
   "cell_type": "code",
   "execution_count": 24,
   "metadata": {},
   "outputs": [],
   "source": [
    "f01_expt, d01_expt, f02_expt, d02_expt = np.loadtxt('Res2_02.txt', comments='#', unpack=True) # Res. 2 f_01 (GHz), \\delta_{01} (MHz), f_02 (GHz), \\delta_{02} (MHz)\n",
    "f02_model, d02_model = get_freqs02_vs_disps02(*res, eps_sample) # model 0->2 frequency and dispersion, GHz\n",
    "d02_model *= 1e3 # convert to MHz"
   ]
  },
  {
   "cell_type": "markdown",
   "metadata": {},
   "source": [
    "# Fig. 4"
   ]
  },
  {
   "cell_type": "code",
   "execution_count": 33,
   "metadata": {},
   "outputs": [
    {
     "data": {
      "text/plain": [
       "(2.2, 5.1)"
      ]
     },
     "execution_count": 33,
     "metadata": {},
     "output_type": "execute_result"
    },
    {
     "data": {
      "image/png": "[encoded data removed]",
      "text/plain": [
       "<Figure size 432x288 with 2 Axes>"
      ]
     },
     "metadata": {
      "needs_background": "light"
     },
     "output_type": "display_data"
    }
   ],
   "source": [
    "#Fig 4\n",
    "m = ['o', 's'] # markers\n",
    "c = ['k', 'C1'] # colors\n",
    "l = ['Res. 1 (expt.)', 'Res. 2 (expt.)'] # data legend\n",
    "l_m = ['Res. 1 (Model)', 'Res. 2 (Model)' ] # model legend\n",
    "plt.plot(f_transmon, d_transmon,'--', color = 'Grey', label = 'Transmon limit') # Transmon solution\n",
    "for i in range(2):\n",
    "    plt.plot(f_model[i], d_model[i], '-', color = c[i], label = l_m[i]) # Model\n",
    "    plt.plot(f_expt[i], d_expt[i], m[i], color = c[i], label = l[i]) # data\n",
    "\n",
    "# formatting\n",
    "plt.yscale(\"log\")\n",
    "plt.xlim([2.1, 4.75])\n",
    "plt.ylim([2.5, 750])\n",
    "plt.xlabel(\"$f_{01}$ (GHz)\")\n",
    "plt.ylabel(\"$\\delta_{01}$ (MHz)\")\n",
    "plt.legend(frameon = False, loc = 3)\n",
    "\n",
    "# inset\n",
    "inset_axes(plt.gca(), width=1.1, height=0.8)\n",
    "for i in range(2):\n",
    "    plt.plot(cutter[i], f_expt[i], m[i], color = c[i], label = l[i])\n",
    "   \n",
    "plt.xlabel(\"$V_Q$ (V)\")\n",
    "plt.ylabel(\"$f_{01}$ (GHz)\")\n",
    "plt.xlim(-2.82, -2.38)\n",
    "plt.ylim(2.2, 5.1)\n"
   ]
  },
  {
   "cell_type": "markdown",
   "metadata": {},
   "source": [
    "# Fig. 5"
   ]
  },
  {
   "cell_type": "code",
   "execution_count": 9,
   "metadata": {},
   "outputs": [
    {
     "data": {
      "text/plain": [
       "<matplotlib.legend.Legend at 0x1195f99e8>"
      ]
     },
     "execution_count": 9,
     "metadata": {},
     "output_type": "execute_result"
    },
    {
     "data": {
      "image/png": "[encoded data removed]",
      "text/plain": [
       "<Figure size 432x288 with 1 Axes>"
      ]
     },
     "metadata": {
      "needs_background": "light"
     },
     "output_type": "display_data"
    }
   ],
   "source": [
    "# Fig 5\n",
    "\n",
    "# Transmon solutions\n",
    "plt.plot(f_transmon, d_transmon,'--', color = 'C1', label = 'Transmon limit (01)')\n",
    "plt.plot(f_transmon02/2, d_transmon02/2,'--', color = 'C0', label = 'Transmon limit (02/2)')\n",
    "\n",
    "# Experimental data and resonant model solutions\n",
    "plt.plot(f01_expt, d01_expt, 'o', color = 'C1', label = 'Res. 2 (Expt.) (01)')\n",
    "plt.plot(f_model[1], d_model[1], '-',  color = 'C1', label = 'Res. 2 (Model) (01)')\n",
    "plt.plot(f02_expt/2, d02_expt/2, 'o', color = 'C0', label = 'Res. 2 (Expt.) (02/2)') # divide by two as it is two-photon transition\n",
    "plt.plot(f02_model/2, d02_model/2, '-',  color = 'C0', label = 'Res. 2 (Model) (02/2)') # divide by two as it is two-photon transition\n",
    "\n",
    "# Formatting\n",
    "plt.yscale(\"log\")\n",
    "plt.ylim([2.5, 450])\n",
    "plt.xlim([3.25, 4.55])\n",
    "plt.xlabel(\"$f_{01}, f_{02}/2$ (GHz)\")\n",
    "plt.ylabel(\"$\\delta_{01}, \\delta_{02}/2$ (MHz)\")\n",
    "plt.legend(frameon = False)\n",
    "\n"
   ]
  }
 ],
 "metadata": {
  "kernelspec": {
   "display_name": "Python 3",
   "language": "python",
   "name": "python3"
  },
  "language_info": {
   "codemirror_mode": {
    "name": "ipython",
    "version": 3
   },
   "file_extension": ".py",
   "mimetype": "text/x-python",
   "name": "python",
   "nbconvert_exporter": "python",
   "pygments_lexer": "ipython3",
   "version": "3.6.7"
  },
  "latex_envs": {
   "LaTeX_envs_menu_present": true,
   "autoclose": false,
   "autocomplete": true,
   "bibliofile": "biblio.bib",
   "cite_by": "apalike",
   "current_citInitial": 1,
   "eqLabelWithNumbers": true,
   "eqNumInitial": 1,
   "hotkeys": {
    "equation": "Ctrl-E",
    "itemize": "Ctrl-I"
   },
   "labels_anchors": false,
   "latex_user_defs": false,
   "report_style_numbering": false,
   "user_envs_cfg": false
  },
  "toc": {
   "base_numbering": 1,
   "nav_menu": {
    "height": "245px",
    "width": "387px"
   },
   "number_sections": true,
   "sideBar": true,
   "skip_h1_title": false,
   "title_cell": "Table of Contents",
   "title_sidebar": "Contents",
   "toc_cell": false,
   "toc_position": {},
   "toc_section_display": true,
   "toc_window_display": false
  }
 },
 "nbformat": 4,
 "nbformat_minor": 2
}
